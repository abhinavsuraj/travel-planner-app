{
  "nbformat": 4,
  "nbformat_minor": 0,
  "metadata": {
    "colab": {
      "provenance": []
    },
    "kernelspec": {
      "name": "python3",
      "display_name": "Python 3"
    },
    "language_info": {
      "name": "python"
    }
  },
  "cells": [
    {
      "cell_type": "markdown",
      "source": [
        "# Interactive Travel Planning Assistant Using LangChain and APIs"
      ],
      "metadata": {
        "id": "KWkg_aE8B6mL"
      }
    },
    {
      "cell_type": "markdown",
      "source": [
        "*This notebook demonstrates the implementation of a travel planner assistant. By leveraging LangChain agents, it integrates APIs to fetch location coordinates, weather information, nearby places, and more. Additionally, it creates maps with clustered markers and saves itineraries for easy reference.*"
      ],
      "metadata": {
        "id": "MzNLJ8H7B9N7"
      }
    },
    {
      "cell_type": "markdown",
      "source": [
        "### Instructions\n",
        "Before running this notebook, ensure the following steps are completed:\n",
        "\n",
        "#### Required API Keys:\n",
        "\n",
        "OpenAI API Key (OPENAI_API_KEY): For GPT-4 agent functionality.\n",
        "\n",
        "Google Maps API Key (GOOGLE_MAPS_API): For fetching location data and nearby places.\n",
        "\n",
        "OpenWeatherMap API Key (OPENWEATHERMAP_API_KEY): For fetching weather data.\n",
        "\n",
        "#### Setup openAPIkey.env File:\n",
        "\n",
        "Create a openAPIkey.env file in the same directory as the notebook.\n",
        "Add the following variables:\n",
        "\n"
      ],
      "metadata": {
        "id": "7pOhSFgY5iZD"
      }
    },
    {
      "cell_type": "code",
      "source": [
        "# OPENAI_API_KEY=your_openai_api_key\n",
        "# GOOGLE_MAPS_API=your_google_maps_api_key\n",
        "# OPENWEATHERMAP_API_KEY=your_openweathermap_api_key"
      ],
      "metadata": {
        "id": "ZNfMXVvW5-rT"
      },
      "execution_count": 1,
      "outputs": []
    },
    {
      "cell_type": "markdown",
      "source": [
        "### Notebook Code"
      ],
      "metadata": {
        "id": "OLi9Tu0M4Loz"
      }
    },
    {
      "cell_type": "code",
      "source": [
        "# Install necessary libraries\n",
        "%%capture --no-stderr\n",
        "%pip install --quiet -U langgraph langchain-community langchain-openai tavily-python\n",
        "\n",
        "# Load environment variables\n",
        "import os\n",
        "from dotenv import load_dotenv\n",
        "\n",
        "# Load API keys from .env file\n",
        "dotenv_path = 'openAPIkey.env'\n",
        "load_dotenv(dotenv_path)\n",
        "\n",
        "# Verify API keys are loaded\n",
        "print(\"OpenAI API Key Loaded:\", os.environ.get('OPENAI_API_KEY') is not None)\n",
        "print(\"Google Maps API Key Loaded:\", os.environ.get('GOOGLE_MAPS_API') is not None)\n",
        "print(\"OpenWeatherMap API Key Loaded:\", os.environ.get('OPENWEATHERMAP_API_KEY') is not None)\n"
      ],
      "metadata": {
        "id": "QoLhfnLsrA2j"
      },
      "execution_count": 2,
      "outputs": []
    },
    {
      "cell_type": "markdown",
      "source": [
        "### Define Tools"
      ],
      "metadata": {
        "id": "RhuD-SJb4b00"
      }
    },
    {
      "cell_type": "code",
      "source": [
        "import requests\n",
        "import logging\n",
        "from typing import Dict, List, Any\n",
        "from langchain.tools import Tool\n",
        "from langchain.prompts import ChatPromptTemplate\n",
        "from langchain.agents import AgentExecutor, create_openai_functions_agent\n",
        "from langchain_openai import ChatOpenAI\n",
        "\n",
        "# Setup logging\n",
        "logging.basicConfig(level=logging.INFO, format=\"%(asctime)s - %(levelname)s - %(message)s\")\n",
        "\n",
        "# Environment variables\n",
        "API_KEY = os.environ.get(\"GOOGLE_MAPS_API\")\n",
        "WEATHER_API_KEY = os.environ.get(\"OPENWEATHERMAP_API_KEY\")\n",
        "\n",
        "# Tool: Fetch Coordinates\n",
        "def fetch_coordinates(location: str) -> Dict[str, float]:\n",
        "    try:\n",
        "        url = f\"https://maps.googleapis.com/maps/api/geocode/json?address={location}&key={API_KEY}\"\n",
        "        response = requests.get(url).json()\n",
        "        if response.get(\"status\") == \"OK\":\n",
        "            location_data = response[\"results\"][0][\"geometry\"][\"location\"]\n",
        "            return {\"latitude\": location_data[\"lat\"], \"longitude\": location_data[\"lng\"]}\n",
        "        return {}\n",
        "    except Exception as e:\n",
        "        logging.error(f\"Error fetching coordinates: {e}\")\n",
        "        return {}\n",
        "\n",
        "# Tool: Fetch Weather\n",
        "def get_weather(location: str) -> str:\n",
        "    try:\n",
        "        url = f\"http://api.openweathermap.org/data/2.5/weather\"\n",
        "        params = {\"q\": location, \"appid\": WEATHER_API_KEY, \"units\": \"metric\"}\n",
        "        response = requests.get(url, params=params).json()\n",
        "        if response.get(\"cod\") == 200:\n",
        "            return f\"{response['name']}: {response['weather'][0]['description']} at {response['main']['temp']}°C\"\n",
        "        return \"Weather information unavailable.\"\n",
        "    except Exception as e:\n",
        "        logging.error(f\"Error fetching weather: {e}\")\n",
        "        return \"Weather information unavailable.\"\n",
        "\n",
        "# Tool: Fetch Nearby Places\n",
        "def fetch_nearby_places(lat: float, lng: float, radius: int, category: str) -> List[Dict[str, Any]]:\n",
        "    try:\n",
        "        url = f\"https://maps.googleapis.com/maps/api/place/nearbysearch/json\"\n",
        "        params = {\n",
        "            \"location\": f\"{lat},{lng}\",\n",
        "            \"radius\": radius * 1000,\n",
        "            \"type\": category,\n",
        "            \"key\": API_KEY,\n",
        "        }\n",
        "        response = requests.get(url, params=params).json()\n",
        "        if response.get(\"status\") == \"OK\":\n",
        "            return response.get(\"results\", [])\n",
        "        return []\n",
        "    except Exception as e:\n",
        "        logging.error(f\"Error fetching nearby places: {e}\")\n",
        "        return []\n",
        "\n",
        "# Tool: Currency Conversion\n",
        "def convert_currency(amount: float, from_currency: str, to_currency: str) -> str:\n",
        "    try:\n",
        "        url = f\"https://api.exchangerate-api.com/v4/latest/{from_currency}\"\n",
        "        response = requests.get(url).json()\n",
        "        rate = response['rates'].get(to_currency)\n",
        "        if rate:\n",
        "            return f\"{amount} {from_currency} = {amount * rate:.2f} {to_currency}\"\n",
        "        return \"Currency conversion unavailable.\"\n",
        "    except Exception as e:\n",
        "        logging.error(f\"Error converting currency: {e}\")\n",
        "        return \"Currency conversion unavailable.\"\n",
        "\n",
        "# Tool: Get Country and Currency\n",
        "def get_country_and_currency(lat: float, lng: float) -> Dict[str, str]:\n",
        "    try:\n",
        "        url = f\"https://maps.googleapis.com/maps/api/geocode/json?latlng={lat},{lng}&key={API_KEY}\"\n",
        "        response = requests.get(url).json()\n",
        "        if response.get(\"status\") == \"OK\":\n",
        "            country = [comp['long_name'] for comp in response['results'][0]['address_components'] if \"country\" in comp['types']]\n",
        "            country_name = country[0] if country else \"Unknown\"\n",
        "            return {\"country_name\": country_name, \"currency\": \"USD\"}\n",
        "        return {\"country_name\": \"Unknown\", \"currency\": \"USD\"}\n",
        "    except Exception as e:\n",
        "        logging.error(f\"Error fetching country and currency: {e}\")\n",
        "        return {\"country_name\": \"Unknown\", \"currency\": \"USD\"}\n",
        "\n",
        "# Tool: Create Map\n",
        "def create_map(lat: float, lng: float, places: List[Dict[str, Any]]) -> str:\n",
        "    try:\n",
        "        import folium\n",
        "        from folium.plugins import MarkerCluster\n",
        "\n",
        "        map_object = folium.Map(location=[lat, lng], zoom_start=13)\n",
        "        cluster = MarkerCluster().add_to(map_object)\n",
        "        for place in places:\n",
        "            folium.Marker(\n",
        "                location=[place[\"geometry\"][\"location\"][\"lat\"], place[\"geometry\"][\"location\"][\"lng\"]],\n",
        "                tooltip=place[\"name\"]\n",
        "            ).add_to(cluster)\n",
        "        filename = \"map.html\"\n",
        "        map_object.save(filename)\n",
        "        return filename\n",
        "    except Exception as e:\n",
        "        logging.error(f\"Error creating map: {e}\")\n",
        "        return \"Map creation failed.\"\n",
        "\n",
        "# Tool: Save Itinerary\n",
        "def save_itinerary(itinerary: List[Dict[str, Any]]) -> str:\n",
        "    try:\n",
        "        import json\n",
        "        filename = \"itinerary.json\"\n",
        "        with open(filename, \"w\") as file:\n",
        "            json.dump(itinerary, file)\n",
        "        return filename\n",
        "    except Exception as e:\n",
        "        logging.error(f\"Error saving itinerary: {e}\")\n",
        "        return \"Itinerary saving failed.\"\n"
      ],
      "metadata": {
        "id": "b9OdQHKP4a5j"
      },
      "execution_count": 3,
      "outputs": []
    },
    {
      "cell_type": "markdown",
      "source": [
        "\n",
        "\n",
        "*   Fetching Coordinates: Converts location name to latitude and longitude.\n",
        "*   Getting Weather: Retrieves current weather details using OpenWeatherMap.\n",
        "*   Finding Nearby Places: Finds nearby places based on category (e.g., restaurants, parks).\n",
        "*   Creating a Map: Visualizes places on an interactive map.\n",
        "*   Saving Itinerary: Saves details into a JSON file for future use."
      ],
      "metadata": {
        "id": "d52Mh4upCSc7"
      }
    },
    {
      "cell_type": "code",
      "source": [
        "### Agent Setup\n",
        "# Define tools for the agent\n",
        "tools = [\n",
        "    Tool(name=\"weather_tool\", func=get_weather, description=\"Fetch the weather for a location.\"),\n",
        "    Tool(name=\"currency_conversion_tool\", func=convert_currency, description=\"Convert currencies.\"),\n",
        "    Tool(name=\"fetch_coordinates_tool\", func=fetch_coordinates, description=\"Fetch coordinates for a location.\"),\n",
        "    Tool(name=\"get_country_and_currency_tool\", func=get_country_and_currency, description=\"Fetch country and currency info.\"),\n",
        "    Tool(name=\"fetch_nearby_places_tool\", func=fetch_nearby_places, description=\"Fetch nearby places.\"),\n",
        "    Tool(name=\"create_map_tool\", func=create_map, description=\"Create a map of places.\"),\n",
        "    Tool(name=\"save_itinerary_tool\", func=save_itinerary, description=\"Save the itinerary to a file.\")\n",
        "]\n",
        "\n",
        "llm = ChatOpenAI(model_name=\"gpt-4o-mini\", temperature=0)\n",
        "prompt = ChatPromptTemplate.from_template(\"\"\"\n",
        "You are a travel assistant. Use the following tools:\n",
        "1. Fetch coordinates for the location.\n",
        "2. Get weather details.\n",
        "3. Convert currency.\n",
        "4. Fetch country and currency details.\n",
        "5. Fetch nearby places.\n",
        "6. Create a map of the places.\n",
        "7. Save the itinerary.,\n",
        "{agent_scratchpad}\n",
        "\"\"\")\n",
        "\n",
        "agent = create_openai_functions_agent(llm, tools, prompt)\n",
        "agent_executor = AgentExecutor(agent=agent, tools=tools, verbose=True)\n"
      ],
      "metadata": {
        "id": "FJRLD-TS6x56"
      },
      "execution_count": 4,
      "outputs": []
    },
    {
      "cell_type": "markdown",
      "source": [
        "### Workflow Execution"
      ],
      "metadata": {
        "id": "A-zWQbEF68JD"
      }
    },
    {
      "cell_type": "code",
      "source": [
        "async def run_workflow(location: str, radius: int, category: str, amount: float):\n",
        "    coordinates = fetch_coordinates(location)\n",
        "    weather = get_weather(location)\n",
        "    country_currency = get_country_and_currency(coordinates[\"latitude\"], coordinates[\"longitude\"])\n",
        "    places = fetch_nearby_places(coordinates[\"latitude\"], coordinates[\"longitude\"], radius, category)\n",
        "    map_file = create_map(coordinates[\"latitude\"], coordinates[\"longitude\"], places)\n",
        "    converted_amount = convert_currency(amount, \"USD\", country_currency[\"currency\"])\n",
        "    itinerary = [{\"name\": place[\"name\"], \"rating\": place.get(\"rating\", \"N/A\")} for place in places]\n",
        "    save_itinerary(itinerary)\n",
        "\n",
        "    print(f\"Coordinates: {coordinates}\")\n",
        "    print(f\"Weather: {weather}\")\n",
        "    print(f\"Country & Currency: {country_currency}\")\n",
        "    print(f\"Nearby Places: {places[:5]}\")\n",
        "    print(f\"Map File: {map_file}\")\n",
        "    print(f\"Converted Amount: {converted_amount}\")\n"
      ],
      "metadata": {
        "id": "9SRXoClA6-hD"
      },
      "execution_count": 5,
      "outputs": []
    },
    {
      "cell_type": "markdown",
      "source": [
        "### Run Workflow"
      ],
      "metadata": {
        "id": "dQ9_18eF7Ap3"
      }
    },
    {
      "cell_type": "code",
      "source": [
        "import nest_asyncio\n",
        "nest_asyncio.apply()\n",
        "\n",
        "await run_workflow(\"Hyderabad\", radius=5, category=\"restaurant\", amount=5000)\n"
      ],
      "metadata": {
        "colab": {
          "base_uri": "https://localhost:8080/"
        },
        "id": "U2eKhuP-7Ckb",
        "outputId": "4250adf9-2501-4bdf-ae27-df5a4c8d56da"
      },
      "execution_count": 6,
      "outputs": [
        {
          "output_type": "stream",
          "name": "stdout",
          "text": [
            "Coordinates: {'latitude': 17.406498, 'longitude': 78.47724389999999}\n",
            "Weather: Hyderabad: haze at 28.23°C\n",
            "Country & Currency: {'country_name': 'India', 'currency': 'USD'}\n",
            "Nearby Places: [{'business_status': 'OPERATIONAL', 'geometry': {'location': {'lat': 17.4241132, 'lng': 78.4569356}, 'viewport': {'northeast': {'lat': 17.4253438802915, 'lng': 78.4584008302915}, 'southwest': {'lat': 17.4226459197085, 'lng': 78.45570286970849}}}, 'icon': 'https://maps.gstatic.com/mapfiles/place_api/icons/v1/png_71/lodging-71.png', 'icon_background_color': '#909CE1', 'icon_mask_base_uri': 'https://maps.gstatic.com/mapfiles/place_api/icons/v2/hotel_pinlet', 'name': 'Hotel Inner Circle', 'opening_hours': {'open_now': True}, 'photos': [{'height': 720, 'html_attributions': ['<a href=\"https://maps.google.com/maps/contrib/101743948211697243081\">Hotel Inner Circle</a>'], 'photo_reference': 'AWYs27z6szjsR6Y74uMS3hYcdbeAv6TuoKHn4UBudkafPqLSr5LlJbpk2KLja2SVXwVUCQbObusJzloAFMn4v54kmb7OiGhrNbp8ka10yDHnPLNXpl88mEGZH2ZzSIJSt-2zbzOW81ECgXUtKTEv3LeNoGm8OuQG02-R5jI7_C4TAZ_T440B', 'width': 1280}], 'place_id': 'ChIJy2DUb0uXyzsRFGORHwnMt84', 'plus_code': {'compound_code': 'CFF4+JQ Hyderabad, Telangana, India', 'global_code': '7J9WCFF4+JQ'}, 'rating': 4.1, 'reference': 'ChIJy2DUb0uXyzsRFGORHwnMt84', 'scope': 'GOOGLE', 'types': ['lodging', 'bakery', 'restaurant', 'food', 'point_of_interest', 'store', 'establishment'], 'user_ratings_total': 2862, 'vicinity': 'House No, Namita Rd, Saboo Heights, 6-3-905, Raj Bhavan Road, Matha Nagar, Somajiguda, Hyderabad'}, {'business_status': 'OPERATIONAL', 'geometry': {'location': {'lat': 17.4039563, 'lng': 78.4653786}, 'viewport': {'northeast': {'lat': 17.4053068802915, 'lng': 78.46672603029151}, 'southwest': {'lat': 17.4026089197085, 'lng': 78.4640280697085}}}, 'icon': 'https://maps.gstatic.com/mapfiles/place_api/icons/v1/png_71/lodging-71.png', 'icon_background_color': '#909CE1', 'icon_mask_base_uri': 'https://maps.gstatic.com/mapfiles/place_api/icons/v2/hotel_pinlet', 'name': 'Best Western Ashoka ( Hotel & AC Banquets)', 'opening_hours': {'open_now': True}, 'photos': [{'height': 1072, 'html_attributions': ['<a href=\"https://maps.google.com/maps/contrib/104348657926990688599\">Best Western Ashoka ( Hotel &amp; AC Banquets)</a>'], 'photo_reference': 'AWYs27zsTxa_Y3nR9imNvdF82wK0RF-fZRaPlVee9MM0UP6XFqXHilWN4VyC4BERhiUN592_lQMuglp8Ndm5WCNzvPu8wKECH8db1SDzxblRgGm9To8y1D-PA-s8tYMFRKB8VDubkQ4jnM47FN_G-6nGchgl_oGsOi9EXdWb_443DRneYbJq', 'width': 2048}], 'place_id': 'ChIJBRuKXV2XyzsR0fk4akUZK48', 'plus_code': {'compound_code': 'CF38+H5 Hyderabad, Telangana, India', 'global_code': '7J9WCF38+H5'}, 'rating': 4.1, 'reference': 'ChIJBRuKXV2XyzsR0fk4akUZK48', 'scope': 'GOOGLE', 'types': ['lodging', 'bar', 'restaurant', 'food', 'point_of_interest', 'establishment'], 'user_ratings_total': 10730, 'vicinity': 'Metro Station 6-1, near to Lakdikapul, 70, Lakdikapul Road, Hyderabad'}, {'business_status': 'OPERATIONAL', 'geometry': {'location': {'lat': 17.3976298, 'lng': 78.4710657}, 'viewport': {'northeast': {'lat': 17.3990837802915, 'lng': 78.47235173029149}, 'southwest': {'lat': 17.3963858197085, 'lng': 78.46965376970849}}}, 'icon': 'https://maps.gstatic.com/mapfiles/place_api/icons/v1/png_71/lodging-71.png', 'icon_background_color': '#909CE1', 'icon_mask_base_uri': 'https://maps.gstatic.com/mapfiles/place_api/icons/v2/hotel_pinlet', 'name': 'The Grand Plaza Hotel', 'opening_hours': {'open_now': True}, 'photos': [{'height': 4608, 'html_attributions': ['<a href=\"https://maps.google.com/maps/contrib/101481033386968722156\">RAVINDRA MUNAVALLI</a>'], 'photo_reference': 'AWYs27xq7_PmKeNbSujBLBXO9qRenpms7WOAgp443r1sKWS0Fu5rcX5O_L2Rj_8FfYZErUE0ipxdlOA0CMo2rwaFx4S8OQutxHFyeb53L3V1gDqj_-Iz9jWQG4N4kUz36NU_bmKvPeTB68ET5iB-qWvAsjFcE2KDXeLjvRT3SeAEXfQx2zJV', 'width': 3456}], 'place_id': 'ChIJfXxgtWSXyzsRHp_B6tZ6mVo', 'plus_code': {'compound_code': '9FXC+3C Hyderabad, Telangana, India', 'global_code': '7J9W9FXC+3C'}, 'rating': 3.7, 'reference': 'ChIJfXxgtWSXyzsRHp_B6tZ6mVo', 'scope': 'GOOGLE', 'types': ['lodging', 'restaurant', 'food', 'point_of_interest', 'establishment'], 'user_ratings_total': 1534, 'vicinity': 'Public Gardens, 5-9-88/A/1, Opposite Assembly Metro Station, Pillar No: A 1255, beside Hajj House Lane, A 1255, Public Garden Road, Nampally, Hyderabad'}, {'business_status': 'OPERATIONAL', 'geometry': {'location': {'lat': 17.3879007, 'lng': 78.4770363}, 'viewport': {'northeast': {'lat': 17.3892992802915, 'lng': 78.4783917802915}, 'southwest': {'lat': 17.3866013197085, 'lng': 78.4756938197085}}}, 'icon': 'https://maps.gstatic.com/mapfiles/place_api/icons/v1/png_71/restaurant-71.png', 'icon_background_color': '#FF9E67', 'icon_mask_base_uri': 'https://maps.gstatic.com/mapfiles/place_api/icons/v2/restaurant_pinlet', 'name': 'Grand Hotel And Restaurant', 'opening_hours': {'open_now': True}, 'photos': [{'height': 1080, 'html_attributions': ['<a href=\"https://maps.google.com/maps/contrib/102124402071280262466\">Praharsha Buddi</a>'], 'photo_reference': 'AWYs27yyO_hI49F6iSBsOvgekTgRqSi138xJw6WkignyjKg0OB9yauEqEqGjksxJ8Qcf4n9KKf1M07YEd_l7HauQ7loOMJ3KisInp4S69xAFa-XKpGyWdgnulcmM0gUGy1Y2ocJnlDIFPuAFmgZTwL7-B-JNXsTyJGbqkWOM2y_wvxmrZzMp', 'width': 1920}], 'place_id': 'ChIJvzzJa9aZyzsR6kewVJXGfVs', 'plus_code': {'compound_code': '9FQG+5R Hyderabad, Telangana, India', 'global_code': '7J9W9FQG+5R'}, 'price_level': 2, 'rating': 4.1, 'reference': 'ChIJvzzJa9aZyzsR6kewVJXGfVs', 'scope': 'GOOGLE', 'types': ['restaurant', 'food', 'point_of_interest', 'establishment'], 'user_ratings_total': 30477, 'vicinity': '4-1-395, Bank Street, Troop Bazaar, Koti, Hyderabad'}, {'business_status': 'OPERATIONAL', 'geometry': {'location': {'lat': 17.4372519, 'lng': 78.454483}, 'viewport': {'northeast': {'lat': 17.43846213029151, 'lng': 78.4558031802915}, 'southwest': {'lat': 17.4357641697085, 'lng': 78.45310521970849}}}, 'icon': 'https://maps.gstatic.com/mapfiles/place_api/icons/v1/png_71/lodging-71.png', 'icon_background_color': '#909CE1', 'icon_mask_base_uri': 'https://maps.gstatic.com/mapfiles/place_api/icons/v2/hotel_pinlet', 'name': 'Marigold Hotel', 'opening_hours': {'open_now': True}, 'photos': [{'height': 3144, 'html_attributions': ['<a href=\"https://maps.google.com/maps/contrib/100749197784688079206\">Marigold Hotel</a>'], 'photo_reference': 'AWYs27x1PcxF9hPvtJ9llxVaNukdY-dE2wKNUJ5cQc0kIx5lsP-_1ekmtCjGHWUXaayRXfsqk3aRBs79hz8SpyUBjotnq4QijPANdUVuuIUfUDuUeE1J4SoFl4lLcrFifbCnXOpQ3yJZgFXXMsgv4rqQqZHtDJ9NBwLG8ITFTFkmcoYbJGX-', 'width': 4192}], 'place_id': 'ChIJHxIYkLeQyzsRSrE3g-ffAes', 'plus_code': {'compound_code': 'CFP3+WQ Hyderabad, Telangana, India', 'global_code': '7J9WCFP3+WQ'}, 'rating': 4.4, 'reference': 'ChIJHxIYkLeQyzsRSrE3g-ffAes', 'scope': 'GOOGLE', 'types': ['lodging', 'restaurant', 'food', 'point_of_interest', 'establishment'], 'user_ratings_total': 12627, 'vicinity': '7-1-25, Ameerpet Road, Begumpet, Hyderabad'}]\n",
            "Map File: map.html\n",
            "Converted Amount: 5000 USD = 5000.00 USD\n"
          ]
        }
      ]
    },
    {
      "cell_type": "markdown",
      "source": [],
      "metadata": {
        "id": "0aggOhUB6ztL"
      }
    },
    {
      "cell_type": "markdown",
      "source": [
        "### Define Tools Using StructuredTool"
      ],
      "metadata": {
        "id": "P19uUXAT8Htz"
      }
    },
    {
      "cell_type": "markdown",
      "source": [
        "### What is a StructuredTool?\n",
        "\n",
        "The `StructuredTool` in LangChain is a powerful abstraction that allows you to define tools with structured inputs and outputs. Instead of dealing with unstructured data, `StructuredTool` enforces clear data validation using models like `pydantic.BaseModel`. This ensures that the input parameters and output formats are well-defined, making your tools more robust and less error-prone.\n",
        "\n",
        "**Key Advantages:**\n",
        "- Enforces input and output validation using schemas.\n",
        "- Ensures better integration with agents, as the expected format is explicit.\n",
        "- Prevents runtime errors caused by missing or invalid data.\n",
        "\n",
        "In this notebook, we use `StructuredTool` to define and manage API interactions, such as fetching coordinates, weather, nearby places, and more.\n"
      ],
      "metadata": {
        "id": "kweRs29BDCor"
      }
    },
    {
      "cell_type": "markdown",
      "source": [
        "### Example: Fetching Coordinates with StructuredTool\n",
        "\n",
        "In the travel assistant workflow, we define a `StructuredTool` to fetch the coordinates of a location. Here's how we do it:\n",
        "\n",
        "1. Define the input and output models using `pydantic.BaseModel`.\n",
        "2. Implement the core function (`fetch_coordinates`) to call the Google Maps API.\n",
        "3. Use `StructuredTool.from_function` to create the tool.\n",
        "\n",
        "**Code Example:**\n",
        "```python\n",
        "class CoordinatesInput(BaseModel):\n",
        "    location: str\n",
        "\n",
        "class CoordinatesOutput(BaseModel):\n",
        "    latitude: float\n",
        "    longitude: float\n",
        "\n",
        "def fetch_coordinates(location: str) -> Dict[str, float]:\n",
        "    # Function implementation to fetch coordinates\n",
        "    ...\n",
        "\n",
        "fetch_coordinates_tool = StructuredTool.from_function(\n",
        "    func=fetch_coordinates,\n",
        "    name=\"fetch_coordinates_tool\",\n",
        "    description=\"Fetch latitude and longitude for a given location.\",\n",
        ")\n"
      ],
      "metadata": {
        "id": "ZV_sSzjqDQlU"
      }
    },
    {
      "cell_type": "code",
      "source": [
        "import requests\n",
        "import logging\n",
        "from typing import Dict, List, Any\n",
        "from langchain.tools import StructuredTool\n",
        "from pydantic import BaseModel\n",
        "from langchain.prompts import ChatPromptTemplate\n",
        "from langchain.agents import AgentExecutor, create_openai_functions_agent\n",
        "from langchain_openai import ChatOpenAI\n",
        "\n",
        "# Setup logging\n",
        "logging.basicConfig(level=logging.INFO, format=\"%(asctime)s - %(levelname)s - %(message)s\")\n",
        "\n",
        "# Environment variables\n",
        "API_KEY = os.environ.get(\"GOOGLE_MAPS_API\")\n",
        "WEATHER_API_KEY = os.environ.get(\"OPENWEATHERMAP_API_KEY\")\n",
        "\n",
        "# Structured Input/Output Models\n",
        "class CoordinatesInput(BaseModel):\n",
        "    location: str\n",
        "\n",
        "class CoordinatesOutput(BaseModel):\n",
        "    latitude: float\n",
        "    longitude: float\n",
        "\n",
        "def fetch_coordinates(location: str) -> Dict[str, float]:\n",
        "    \"\"\"Fetch coordinates for a given location.\"\"\"\n",
        "    try:\n",
        "        url = f\"https://maps.googleapis.com/maps/api/geocode/json?address={location}&key={API_KEY}\"\n",
        "        response = requests.get(url).json()\n",
        "        if response.get(\"status\") == \"OK\":\n",
        "            location_data = response[\"results\"][0][\"geometry\"][\"location\"]\n",
        "            return {\"latitude\": location_data[\"lat\"], \"longitude\": location_data[\"lng\"]}\n",
        "        return {}\n",
        "    except Exception as e:\n",
        "        logging.error(f\"Error fetching coordinates: {e}\")\n",
        "        return {}\n",
        "\n",
        "fetch_coordinates_tool = StructuredTool.from_function(\n",
        "    func=fetch_coordinates,\n",
        "    name=\"fetch_coordinates_tool\",\n",
        "    description=\"Fetch latitude and longitude for a given location.\",\n",
        ")\n",
        "\n",
        "class WeatherInput(BaseModel):\n",
        "    location: str\n",
        "\n",
        "class WeatherOutput(BaseModel):\n",
        "    description: str\n",
        "\n",
        "def get_weather(location: str) -> str:\n",
        "    \"\"\"Fetch weather information for a given location.\"\"\"\n",
        "    try:\n",
        "        url = f\"http://api.openweathermap.org/data/2.5/weather\"\n",
        "        params = {\"q\": location, \"appid\": WEATHER_API_KEY, \"units\": \"metric\"}\n",
        "        response = requests.get(url, params=params).json()\n",
        "        if response.get(\"cod\") == 200:\n",
        "            return f\"{response['name']}: {response['weather'][0]['description']} at {response['main']['temp']}°C\"\n",
        "        return \"Weather information unavailable.\"\n",
        "    except Exception as e:\n",
        "        logging.error(f\"Error fetching weather: {e}\")\n",
        "        return \"Weather information unavailable.\"\n",
        "\n",
        "weather_tool = StructuredTool.from_function(\n",
        "    func=get_weather,\n",
        "    name=\"weather_tool\",\n",
        "    description=\"Fetch weather for a given location.\",\n",
        ")\n",
        "\n",
        "class PlacesInput(BaseModel):\n",
        "    lat: float\n",
        "    lng: float\n",
        "    radius: int\n",
        "    category: str\n",
        "\n",
        "class PlacesOutput(BaseModel):\n",
        "    places: List[Dict[str, Any]]\n",
        "\n",
        "def fetch_nearby_places(lat: float, lng: float, radius: int, category: str) -> List[Dict[str, Any]]:\n",
        "    \"\"\"Fetch nearby places for a given latitude, longitude, radius, and category.\"\"\"\n",
        "    try:\n",
        "        url = f\"https://maps.googleapis.com/maps/api/place/nearbysearch/json\"\n",
        "        params = {\n",
        "            \"location\": f\"{lat},{lng}\",\n",
        "            \"radius\": radius * 1000,\n",
        "            \"type\": category,\n",
        "            \"key\": API_KEY,\n",
        "        }\n",
        "        response = requests.get(url, params=params).json()\n",
        "        if response.get(\"status\") == \"OK\":\n",
        "            return response.get(\"results\", [])\n",
        "        return []\n",
        "    except Exception as e:\n",
        "        logging.error(f\"Error fetching nearby places: {e}\")\n",
        "        return []\n",
        "\n",
        "fetch_nearby_places_tool = StructuredTool.from_function(\n",
        "    func=fetch_nearby_places,\n",
        "    name=\"fetch_nearby_places_tool\",\n",
        "    description=\"Fetch nearby places for given coordinates, radius, and category.\",\n",
        ")\n",
        "\n",
        "class CountryCurrencyInput(BaseModel):\n",
        "    lat: float\n",
        "    lng: float\n",
        "\n",
        "class CountryCurrencyOutput(BaseModel):\n",
        "    country: str\n",
        "    currency: str\n",
        "\n",
        "def get_country_and_currency(lat: float, lng: float) -> Dict[str, str]:\n",
        "    \"\"\"Fetch country and currency details for given latitude and longitude.\"\"\"\n",
        "    try:\n",
        "        url = f\"https://maps.googleapis.com/maps/api/geocode/json?latlng={lat},{lng}&key={API_KEY}\"\n",
        "        response = requests.get(url).json()\n",
        "        if response.get(\"status\") == \"OK\":\n",
        "            country = [comp['long_name'] for comp in response['results'][0]['address_components'] if \"country\" in comp['types']]\n",
        "            country_name = country[0] if country else \"Unknown\"\n",
        "            return {\"country_name\": country_name, \"currency\": \"USD\"}\n",
        "        return {\"country_name\": \"Unknown\", \"currency\": \"USD\"}\n",
        "    except Exception as e:\n",
        "        logging.error(f\"Error fetching country and currency: {e}\")\n",
        "        return {\"country_name\": \"Unknown\", \"currency\": \"USD\"}\n",
        "\n",
        "get_country_and_currency_tool = StructuredTool.from_function(\n",
        "    func=get_country_and_currency,\n",
        "    name=\"get_country_and_currency_tool\",\n",
        "    description=\"Fetch country and currency for given coordinates.\",\n",
        ")\n",
        "\n",
        "# Define tools for creating maps and saving itineraries similarly.\n"
      ],
      "metadata": {
        "id": "NHQ1yyFO8H1j"
      },
      "execution_count": 7,
      "outputs": []
    },
    {
      "cell_type": "markdown",
      "source": [
        "### Code Walkthrough\n",
        "\n",
        "Here's how we set up the Travel Assistant Agent:\n",
        "\n",
        "1. **Define Tools:**\n",
        "   We define tools using `StructuredTool` to ensure they accept and return structured data.\n",
        "   ```python\n",
        "   tools = [\n",
        "       fetch_coordinates_tool,\n",
        "       weather_tool,\n",
        "       fetch_nearby_places_tool,\n",
        "       get_country_and_currency_tool,\n",
        "       create_map_tool,\n",
        "       save_itinerary_tool,\n",
        "   ]\n"
      ],
      "metadata": {
        "id": "ho6VuhS0DPAa"
      }
    },
    {
      "cell_type": "markdown",
      "source": [
        "### How the Agent Works\n",
        "\n",
        "The agent uses the provided tools and prompt to execute tasks. Here's how it works:\n",
        "1. **Reads the Prompt:**\n",
        "   - The prompt defines the tasks and tools available to the agent.\n",
        "2. **Analyzes the Input:**\n",
        "   - The agent processes the user's input and determines the sequence of actions.\n",
        "3. **Selects Tools Dynamically:**\n",
        "   - Based on the input, the agent decides which tool to invoke. For example:\n",
        "     - If the user mentions \"weather,\" the agent uses `weather_tool`.\n",
        "     - If the user mentions \"restaurants near London,\" the agent uses `fetch_coordinates_tool` and `fetch_nearby_places_tool`.\n",
        "4. **Executes Tools and Combines Outputs:**\n",
        "   - The agent executes the selected tools in order and combines their outputs to provide a comprehensive result.\n"
      ],
      "metadata": {
        "id": "jeJ6RGcXE1vz"
      }
    },
    {
      "cell_type": "markdown",
      "source": [],
      "metadata": {
        "id": "-k-YjxI7E3gg"
      }
    },
    {
      "cell_type": "markdown",
      "source": [
        "### Agent Setup"
      ],
      "metadata": {
        "id": "Ch3tytPP8h-T"
      }
    },
    {
      "cell_type": "code",
      "source": [
        "# Define tools\n",
        "tools = [\n",
        "    fetch_coordinates_tool,\n",
        "    weather_tool,\n",
        "    fetch_nearby_places_tool,\n",
        "    get_country_and_currency_tool,\n",
        "]\n",
        "\n",
        "# Initialize LLM and agent\n",
        "llm = ChatOpenAI(model_name=\"gpt-4o-mini\", temperature=0)\n",
        "prompt = ChatPromptTemplate.from_template(\"\"\"\n",
        "You are a travel assistant. Use the tools below:\n",
        "1. Fetch coordinates for a location.\n",
        "2. Get weather details.\n",
        "3. Fetch nearby places.\n",
        "4. Fetch country and currency.,\n",
        "{agent_scratchpad}\n",
        "\"\"\")\n",
        "\n",
        "agent = create_openai_functions_agent(llm, tools, prompt)\n",
        "agent_executor = AgentExecutor(agent=agent, tools=tools, verbose=True)\n"
      ],
      "metadata": {
        "id": "g4q6yz-m8jQJ"
      },
      "execution_count": 8,
      "outputs": []
    },
    {
      "cell_type": "markdown",
      "source": [
        "### Error Handling\n",
        "\n",
        "Agents may encounter errors during execution, such as:\n",
        "- Invalid inputs (e.g., empty location).\n",
        "- API failures (e.g., exceeding rate limits or incorrect responses).\n",
        "- Tool invocation errors.\n",
        "\n",
        "**How We Handle Errors:**\n",
        "- Each tool has built-in error handling to log errors and return default outputs when necessary.\n",
        "- The agent logs all errors encountered during tool execution.\n",
        "- Users can inspect the logs to debug issues.\n",
        "\n",
        "Example: If the `fetch_coordinates_tool` fails due to an invalid location, it logs an error and stops further execution for that input.\n"
      ],
      "metadata": {
        "id": "M38XPkPZE-qC"
      }
    },
    {
      "cell_type": "markdown",
      "source": [
        "### Define the Workflow"
      ],
      "metadata": {
        "id": "YcYzimxZ_BYT"
      }
    },
    {
      "cell_type": "code",
      "source": [
        "async def run_workflow(location: str, radius: int, category: str, amount: float):\n",
        "    print(f\"Starting workflow for location: {location}, radius: {radius} km, category: {category}, amount: {amount}\")\n",
        "\n",
        "    # Step 1: Fetch coordinates\n",
        "    coordinates = await fetch_coordinates_tool.arun({\"location\": location})\n",
        "    if not coordinates:\n",
        "        print(\"Failed to fetch coordinates.\")\n",
        "        return\n",
        "\n",
        "    print(f\"Coordinates fetched: {coordinates}\")\n",
        "\n",
        "    # Step 2: Fetch weather details\n",
        "    weather = await weather_tool.arun({\"location\": location})\n",
        "    print(f\"Weather information: {weather}\")\n",
        "\n",
        "    # Step 3: Fetch nearby places\n",
        "    places = await fetch_nearby_places_tool.arun({\n",
        "        \"lat\": coordinates[\"latitude\"],\n",
        "        \"lng\": coordinates[\"longitude\"],\n",
        "        \"radius\": radius,\n",
        "        \"category\": category\n",
        "    })\n",
        "    if not places:\n",
        "        print(\"No nearby places found.\")\n",
        "    else:\n",
        "        print(f\"Nearby places: {len(places)} places found.\")\n",
        "\n",
        "    # Step 4: Fetch country and currency\n",
        "    country_currency = await get_country_and_currency_tool.arun({\n",
        "        \"lat\": coordinates[\"latitude\"],\n",
        "        \"lng\": coordinates[\"longitude\"]\n",
        "    })\n",
        "    print(f\"Country and currency details: {country_currency}\")\n",
        "\n",
        "    # Summary\n",
        "    print(\"\\n=== Workflow Completed ===\")\n",
        "    print(f\"Coordinates: {coordinates}\")\n",
        "    print(f\"Weather: {weather}\")\n",
        "    print(f\"Nearby Places: {places[:3]} (Showing top 3 for brevity)\")\n",
        "    print(f\"Country & Currency: {country_currency}\")\n"
      ],
      "metadata": {
        "id": "jSDbUw17_CsD"
      },
      "execution_count": 9,
      "outputs": []
    },
    {
      "cell_type": "markdown",
      "source": [
        "### Run the Workflow"
      ],
      "metadata": {
        "id": "KD2zkk9r8rxK"
      }
    },
    {
      "cell_type": "markdown",
      "source": [
        "### Running the Agent\n",
        "\n",
        "To run the agent and execute the workflow, follow these steps:\n",
        "1. Ensure all required API keys are set in your environment variables.\n",
        "2. Execute the following code:\n",
        "   ```python\n",
        "   import nest_asyncio\n",
        "   nest_asyncio.apply()\n",
        "\n",
        "   # Run the workflow\n",
        "   await run_workflow(\"London\", radius=5, category=\"restaurant\")\n"
      ],
      "metadata": {
        "id": "ECxaW6N0FAnj"
      }
    },
    {
      "cell_type": "code",
      "source": [
        "import nest_asyncio\n",
        "nest_asyncio.apply()\n",
        "\n",
        "await run_workflow(\"Hyderabad\", radius=5, category=\"restaurant\", amount=5000)\n"
      ],
      "metadata": {
        "colab": {
          "base_uri": "https://localhost:8080/"
        },
        "id": "k91DEAHi8tKz",
        "outputId": "fa1b3838-dfc0-431d-adda-bd080280c5b9"
      },
      "execution_count": 10,
      "outputs": [
        {
          "output_type": "stream",
          "name": "stdout",
          "text": [
            "Starting workflow for location: Hyderabad, radius: 5 km, category: restaurant, amount: 5000\n",
            "Coordinates fetched: {'latitude': 17.406498, 'longitude': 78.47724389999999}\n",
            "Weather information: Hyderabad: haze at 28.23°C\n",
            "Nearby places: 20 places found.\n",
            "Country and currency details: {'country_name': 'India', 'currency': 'USD'}\n",
            "\n",
            "=== Workflow Completed ===\n",
            "Coordinates: {'latitude': 17.406498, 'longitude': 78.47724389999999}\n",
            "Weather: Hyderabad: haze at 28.23°C\n",
            "Nearby Places: [{'business_status': 'OPERATIONAL', 'geometry': {'location': {'lat': 17.4241132, 'lng': 78.4569356}, 'viewport': {'northeast': {'lat': 17.4253438802915, 'lng': 78.4584008302915}, 'southwest': {'lat': 17.4226459197085, 'lng': 78.45570286970849}}}, 'icon': 'https://maps.gstatic.com/mapfiles/place_api/icons/v1/png_71/lodging-71.png', 'icon_background_color': '#909CE1', 'icon_mask_base_uri': 'https://maps.gstatic.com/mapfiles/place_api/icons/v2/hotel_pinlet', 'name': 'Hotel Inner Circle', 'opening_hours': {'open_now': True}, 'photos': [{'height': 720, 'html_attributions': ['<a href=\"https://maps.google.com/maps/contrib/101743948211697243081\">Hotel Inner Circle</a>'], 'photo_reference': 'AWYs27w5w7zMMbmQulYsWSqAOTkT8q24Dabzdt74t5c6kh_itowzIrNnqqSe8xQV78UM-bTUiMUytANb11YYdWk6OByGPMTDlXCb1af-saHbJIKuzCSIPaBA5fmL9qjG5bubDDPgpGaUzSdsM7PCbNZG4nLhnbUVGR8cwpEekAf2WQJl9NiA', 'width': 1280}], 'place_id': 'ChIJy2DUb0uXyzsRFGORHwnMt84', 'plus_code': {'compound_code': 'CFF4+JQ Hyderabad, Telangana, India', 'global_code': '7J9WCFF4+JQ'}, 'rating': 4.1, 'reference': 'ChIJy2DUb0uXyzsRFGORHwnMt84', 'scope': 'GOOGLE', 'types': ['bakery', 'store', 'lodging', 'restaurant', 'food', 'point_of_interest', 'establishment'], 'user_ratings_total': 2862, 'vicinity': 'House No, Namita Rd, Saboo Heights, 6-3-905, Raj Bhavan Road, Matha Nagar, Somajiguda, Hyderabad'}, {'business_status': 'OPERATIONAL', 'geometry': {'location': {'lat': 17.4039563, 'lng': 78.4653786}, 'viewport': {'northeast': {'lat': 17.4053068802915, 'lng': 78.46672603029151}, 'southwest': {'lat': 17.4026089197085, 'lng': 78.4640280697085}}}, 'icon': 'https://maps.gstatic.com/mapfiles/place_api/icons/v1/png_71/lodging-71.png', 'icon_background_color': '#909CE1', 'icon_mask_base_uri': 'https://maps.gstatic.com/mapfiles/place_api/icons/v2/hotel_pinlet', 'name': 'Best Western Ashoka ( Hotel & AC Banquets)', 'opening_hours': {'open_now': True}, 'photos': [{'height': 1072, 'html_attributions': ['<a href=\"https://maps.google.com/maps/contrib/104348657926990688599\">Best Western Ashoka ( Hotel &amp; AC Banquets)</a>'], 'photo_reference': 'AWYs27wbUw14ZePtk3S-I9OHW6m_0mFR-DqVDhjv65YG_SjJV82VI8Aoeh5sI0EClQATBFO0HmnD6y8BMhhHtwAMZK0yOizGb-mFnyoqAnOTMdkpWVXcp7pgmswceN4XSNBR1cpxsJJNZrsFUznnI4YRnUzxPTemFtQvGYTMzgFahbtAeTcM', 'width': 2048}], 'place_id': 'ChIJBRuKXV2XyzsR0fk4akUZK48', 'plus_code': {'compound_code': 'CF38+H5 Hyderabad, Telangana, India', 'global_code': '7J9WCF38+H5'}, 'rating': 4.1, 'reference': 'ChIJBRuKXV2XyzsR0fk4akUZK48', 'scope': 'GOOGLE', 'types': ['bar', 'lodging', 'restaurant', 'food', 'point_of_interest', 'establishment'], 'user_ratings_total': 10730, 'vicinity': 'Metro Station 6-1, near to Lakdikapul, 70, Lakdikapul Road, Hyderabad'}, {'business_status': 'OPERATIONAL', 'geometry': {'location': {'lat': 17.3976298, 'lng': 78.4710657}, 'viewport': {'northeast': {'lat': 17.3990837802915, 'lng': 78.47235173029149}, 'southwest': {'lat': 17.3963858197085, 'lng': 78.46965376970849}}}, 'icon': 'https://maps.gstatic.com/mapfiles/place_api/icons/v1/png_71/lodging-71.png', 'icon_background_color': '#909CE1', 'icon_mask_base_uri': 'https://maps.gstatic.com/mapfiles/place_api/icons/v2/hotel_pinlet', 'name': 'The Grand Plaza Hotel', 'opening_hours': {'open_now': True}, 'photos': [{'height': 4608, 'html_attributions': ['<a href=\"https://maps.google.com/maps/contrib/101481033386968722156\">RAVINDRA MUNAVALLI</a>'], 'photo_reference': 'AWYs27xNk6l6zjlrgRzBx2HhZClo_OawyWDp10rFdd6apOgpiuPrGOJn-hcDvOaU-I79qlzOCWrAftcn-2K7GgVT_xZidpogQD9BpqwdwAmhammsHu1MUfr5Pub7sGH4pLxDzUPy5uqN7_ldcwfhqOgZ9UhWn53pzilCCdVP2YEA4zJfekA-', 'width': 3456}], 'place_id': 'ChIJfXxgtWSXyzsRHp_B6tZ6mVo', 'plus_code': {'compound_code': '9FXC+3C Hyderabad, Telangana, India', 'global_code': '7J9W9FXC+3C'}, 'rating': 3.7, 'reference': 'ChIJfXxgtWSXyzsRHp_B6tZ6mVo', 'scope': 'GOOGLE', 'types': ['lodging', 'restaurant', 'food', 'point_of_interest', 'establishment'], 'user_ratings_total': 1534, 'vicinity': 'Public Gardens, 5-9-88/A/1, Opposite Assembly Metro Station, Pillar No: A 1255, beside Hajj House Lane, A 1255, Public Garden Road, Nampally, Hyderabad'}] (Showing top 3 for brevity)\n",
            "Country & Currency: {'country_name': 'India', 'currency': 'USD'}\n"
          ]
        }
      ]
    },
    {
      "cell_type": "markdown",
      "source": [
        "### Customizing the Agent\n",
        "\n",
        "You can customize the agent to fit your needs:\n",
        "- **Add New Tools:** Define new tools for tasks like fetching hotel prices, booking tickets, or calculating travel times.\n",
        "- **Modify the Prompt:** Tailor the prompt to include additional instructions or restrict specific tasks.\n",
        "- **Change the Model:** Switch to a different LLM (e.g., GPT-3.5) if needed.\n",
        "- **Enhance Error Handling:** Add custom error messages or fallback mechanisms for specific tools.\n"
      ],
      "metadata": {
        "id": "Nf60cwVjFEAz"
      }
    },
    {
      "cell_type": "markdown",
      "source": [
        "### Adding More Functionality\n",
        "#### Tool for Creating Maps and Saving Itineraries"
      ],
      "metadata": {
        "id": "1tXl1-RI8zB7"
      }
    },
    {
      "cell_type": "code",
      "source": [
        "from folium import Map, Marker\n",
        "from folium.plugins import MarkerCluster\n",
        "import os\n",
        "import json\n",
        "\n",
        "class CreateMapInput(BaseModel):\n",
        "    lat: float\n",
        "    lng: float\n",
        "    places: List[Dict[str, Any]]\n",
        "\n",
        "class CreateMapOutput(BaseModel):\n",
        "    map_file: str\n",
        "\n",
        "def create_map(lat: float, lng: float, places: List[Dict[str, Any]]) -> str:\n",
        "    \"\"\"\n",
        "    Create a map with markers for the provided places and save it as an HTML file.\n",
        "    \"\"\"\n",
        "    try:\n",
        "        map_object = Map(location=[lat, lng], zoom_start=13)\n",
        "        marker_cluster = MarkerCluster().add_to(map_object)\n",
        "\n",
        "        for place in places:\n",
        "            place_lat = place[\"geometry\"][\"location\"][\"lat\"]\n",
        "            place_lng = place[\"geometry\"][\"location\"][\"lng\"]\n",
        "            name = place.get(\"name\", \"Unknown Place\")\n",
        "            Marker([place_lat, place_lng], tooltip=name, popup=place.get(\"vicinity\", \"Address not available\")).add_to(marker_cluster)\n",
        "\n",
        "        map_filename = \"map_with_places.html\"\n",
        "        map_object.save(map_filename)\n",
        "        return map_filename\n",
        "    except Exception as e:\n",
        "        logging.error(f\"Error creating map: {e}\")\n",
        "        return \"Map creation failed.\"\n",
        "\n",
        "# StructuredTool definition\n",
        "create_map_tool = StructuredTool.from_function(\n",
        "    func=create_map,\n",
        "    name=\"create_map_tool\",\n",
        "    description=\"Create a map with markers for the given latitude, longitude, and places.\"\n",
        ")\n",
        "\n",
        "\n",
        "class SaveItineraryInput(BaseModel):\n",
        "    itinerary: List[Dict[str, Any]]\n",
        "    map_file: str\n",
        "\n",
        "class SaveItineraryOutput(BaseModel):\n",
        "    itinerary_file: str\n",
        "\n",
        "def save_itinerary(itinerary: List[Dict[str, Any]], map_file: str) -> str:\n",
        "    \"\"\"\n",
        "    Save the trip itinerary and the map file path into a JSON file.\n",
        "    \"\"\"\n",
        "    try:\n",
        "        data = {\"itinerary\": itinerary, \"map_file\": map_file}\n",
        "        itinerary_filename = \"itinerary.json\"\n",
        "        with open(itinerary_filename, \"w\") as file:\n",
        "            json.dump(data, file, indent=4)\n",
        "        return itinerary_filename\n",
        "    except Exception as e:\n",
        "        logging.error(f\"Error saving itinerary: {e}\")\n",
        "        return \"Itinerary save failed.\"\n",
        "\n",
        "# StructuredTool definition\n",
        "save_itinerary_tool = StructuredTool.from_function(\n",
        "    func=save_itinerary,\n",
        "    name=\"save_itinerary_tool\",\n",
        "    description=\"Save the trip itinerary and map file into a JSON file.\"\n",
        ")\n",
        "\n"
      ],
      "metadata": {
        "id": "XTBehNz68-V7"
      },
      "execution_count": 11,
      "outputs": []
    },
    {
      "cell_type": "markdown",
      "source": [
        "### Where Do We Use StructuredTool?\n",
        "\n",
        "In this notebook, `StructuredTool` is used for the following functionalities:\n",
        "1. Fetching coordinates (`fetch_coordinates_tool`).\n",
        "2. Retrieving weather details (`weather_tool`).\n",
        "3. Finding nearby places (`fetch_nearby_places_tool`).\n",
        "4. Fetching country and currency (`get_country_and_currency_tool`).\n",
        "5. Creating a map (`create_map_tool`).\n",
        "6. Saving the itinerary (`save_itinerary_tool`).\n",
        "\n",
        "Each of these tools is defined with specific input and output models, ensuring data integrity and seamless agent integration.\n"
      ],
      "metadata": {
        "id": "sHT-X4BqDgh0"
      }
    },
    {
      "cell_type": "markdown",
      "source": [],
      "metadata": {
        "id": "vDfpbMR5Dsu7"
      }
    },
    {
      "cell_type": "markdown",
      "source": [
        "### Why Use StructuredTool with Agents?\n",
        "\n",
        "Agents like LangChain's `create_openai_functions_agent` rely on tools for specific tasks. By using `StructuredTool`:\n",
        "- The agent knows exactly what data to send and what format to expect in return.\n",
        "- Complex workflows involving multiple tools (e.g., fetching data from APIs and combining results) become easier to manage.\n",
        "- Debugging becomes simpler because input and output validation catch issues early.\n"
      ],
      "metadata": {
        "id": "UgCDiDbhDnAD"
      }
    },
    {
      "cell_type": "markdown",
      "source": [
        "### Incorporate the Tools into the Agent"
      ],
      "metadata": {
        "id": "HP8Xddfb9Gk6"
      }
    },
    {
      "cell_type": "code",
      "source": [
        "# Update tools list to include all tools\n",
        "tools = [\n",
        "    fetch_coordinates_tool,\n",
        "    weather_tool,\n",
        "    fetch_nearby_places_tool,\n",
        "    get_country_and_currency_tool,\n",
        "    create_map_tool,\n",
        "    save_itinerary_tool,\n",
        "]\n",
        "\n",
        "# Agent Setup\n",
        "llm = ChatOpenAI(model_name=\"gpt-4\", temperature=0)\n",
        "prompt = ChatPromptTemplate.from_template(\"\"\"\n",
        "You are a travel assistant. Follow these steps:\n",
        "1. Fetch coordinates for a location.\n",
        "2. Get weather details for the location.\n",
        "3. Fetch nearby places for the given location.\n",
        "4. Fetch country and currency based on coordinates.\n",
        "5. Create a map with the places.\n",
        "6. Save the itinerary with the map file..\n",
        "{agent_scratchpad}\n",
        "\"\"\")\n",
        "\n",
        "# Create the agent\n",
        "agent = create_openai_functions_agent(llm, tools, prompt)\n",
        "agent_executor = AgentExecutor(agent=agent, tools=tools, verbose=True)\n"
      ],
      "metadata": {
        "id": "BPEsu2Tf9IVj"
      },
      "execution_count": 12,
      "outputs": []
    },
    {
      "cell_type": "markdown",
      "source": [],
      "metadata": {
        "id": "ge2Owz7JDtkC"
      }
    },
    {
      "cell_type": "markdown",
      "source": [
        "### Updated Workflow Execution"
      ],
      "metadata": {
        "id": "qXLUa0dp9KLL"
      }
    },
    {
      "cell_type": "code",
      "source": [
        "async def run_workflow(location: str, radius: int, category: str):\n",
        "    try:\n",
        "        # Fetch coordinates\n",
        "        coordinates = await fetch_coordinates_tool.arun({\"location\": location})\n",
        "        if not coordinates:\n",
        "            raise ValueError(\"Failed to fetch coordinates.\")\n",
        "\n",
        "        # Fetch weather\n",
        "        weather = await weather_tool.arun({\"location\": location})\n",
        "\n",
        "        # Fetch nearby places\n",
        "        places = await fetch_nearby_places_tool.arun({\n",
        "            \"lat\": coordinates[\"latitude\"],\n",
        "            \"lng\": coordinates[\"longitude\"],\n",
        "            \"radius\": radius,\n",
        "            \"category\": category\n",
        "        })\n",
        "        if not places:\n",
        "            raise ValueError(\"No nearby places found.\")\n",
        "\n",
        "        # Fetch country and currency\n",
        "        country_currency = await get_country_and_currency_tool.arun({\n",
        "            \"lat\": coordinates[\"latitude\"],\n",
        "            \"lng\": coordinates[\"longitude\"]\n",
        "        })\n",
        "\n",
        "        # Create a map with nearby places\n",
        "        map_file = await create_map_tool.arun({\n",
        "            \"lat\": coordinates[\"latitude\"],\n",
        "            \"lng\": coordinates[\"longitude\"],\n",
        "            \"places\": places\n",
        "        })\n",
        "\n",
        "        # Save itinerary\n",
        "        itinerary_file = await save_itinerary_tool.arun({\n",
        "            \"itinerary\": [{\"name\": place[\"name\"], \"rating\": place.get(\"rating\", \"N/A\")} for place in places],\n",
        "            \"map_file\": map_file\n",
        "        })\n",
        "\n",
        "        # Print outputs\n",
        "        print(\"Coordinates:\", coordinates)\n",
        "        print(\"Weather:\", weather)\n",
        "        print(\"Country & Currency:\", country_currency)\n",
        "        print(\"Map File:\", map_file)\n",
        "        print(\"Itinerary File:\", itinerary_file)\n",
        "    except Exception as e:\n",
        "        logging.error(f\"Error during workflow execution: {e}\")\n"
      ],
      "metadata": {
        "id": "PwRCndvk9LDK"
      },
      "execution_count": 13,
      "outputs": []
    },
    {
      "cell_type": "markdown",
      "source": [
        "### Execute the Workflow"
      ],
      "metadata": {
        "id": "7NEtb7On9Ncz"
      }
    },
    {
      "cell_type": "code",
      "source": [
        "import nest_asyncio\n",
        "nest_asyncio.apply()\n",
        "\n",
        "# Run the workflow\n",
        "await run_workflow(\"London\", radius=5, category=\"restaurant\")\n"
      ],
      "metadata": {
        "colab": {
          "base_uri": "https://localhost:8080/"
        },
        "id": "77xr4XkQ9AJk",
        "outputId": "1948ece8-5dbe-4cb1-8cbf-e4b3e6eb0669"
      },
      "execution_count": 14,
      "outputs": [
        {
          "output_type": "stream",
          "name": "stdout",
          "text": [
            "Coordinates: {'latitude': 51.5072178, 'longitude': -0.1275862}\n",
            "Weather: London: overcast clouds at 4.09°C\n",
            "Country & Currency: {'country_name': 'United Kingdom', 'currency': 'USD'}\n",
            "Map File: map_with_places.html\n",
            "Itinerary File: itinerary.json\n"
          ]
        }
      ]
    },
    {
      "cell_type": "markdown",
      "source": [
        "#### Advanced Usage of StructuredTool\n",
        "If you want to add more depth, include advanced topics:\n",
        "* Using StructuredTool for API chaining: Explain how one tool's output can be\n",
        "used as the input for another.\n",
        "* Combining multiple StructuredTools in a single task.\n",
        "* Creating custom validation logic in pydantic models (e.g., ensuring radius is non-negative or places is non-empty)."
      ],
      "metadata": {
        "id": "60JUQLW6D7a0"
      }
    }
  ]
}